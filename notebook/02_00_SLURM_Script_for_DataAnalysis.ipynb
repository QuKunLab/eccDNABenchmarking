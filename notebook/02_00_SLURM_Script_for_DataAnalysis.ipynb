{
 "cells": [
  {
   "cell_type": "markdown",
   "id": "31f30252-b70d-486a-a58b-c65a958c17df",
   "metadata": {},
   "source": [
    "## Section2 Part0 SLURM Script to Identify eccDNA in Experimental Data\n",
    "#### Ke Liu"
   ]
  },
  {
   "cell_type": "markdown",
   "id": "9ca7a0af-ac8e-45a6-add1-c7b068cbf70a",
   "metadata": {},
   "source": [
    "#### Step0 Fastq QC"
   ]
  },
  {
   "cell_type": "markdown",
   "id": "e4a1306e-9964-428e-8089-6645375d35cb",
   "metadata": {},
   "source": [
    "###### Using fastp to trim NGS fastq generated from CircularDNA enrichment Protocols https://github.com/OpenGene/fastp"
   ]
  },
  {
   "cell_type": "markdown",
   "id": "790fd77b-f7c8-4bc6-a4cd-3474cdc3e988",
   "metadata": {},
   "source": [
    "#### 1 ATAC-seq"
   ]
  },
  {
   "cell_type": "raw",
   "id": "0bcf98c1-68d1-4095-90a3-24970e2f8900",
   "metadata": {},
   "source": [
    "#!/bin/sh\n",
    "#An example for serial job.\n",
    "#SBATCH -J ATAC\n",
    "#SBATCH -o log/ATAC_%j.log\n",
    "#SBATCH -e log/ATAC_%j.err\n",
    "#SBATCH -N 2 -n 80 -p CPU-Shorttime\n",
    "#SBATCH --qos qos_cpu_shorttime\n",
    "#SBATCH --time=3-00\n",
    "#module load intel/2020\n",
    "\n",
    "echo Running on $SBATCH_PARTITION paratation\n",
    "echo Time is `date`\n",
    "source /home/lifesci/liuk0617/miniconda3/bin/activate eccbench\n",
    "bash_dir=/home/lifesci/liuk0617/software/Circle_finder\n",
    "cd $bash_dir\n",
    "echo Directory is $PWD\n",
    "echo This job runs on the following nodes:\n",
    "echo $SLURM_JOB_NODELIST\n",
    "echo This job has allocated $SLURM_JOB_CPUS_PER_NODE cpu core\n",
    "data_dir=/home/lifesci/liuk0617/workspace/benchmark/data/exp/2nd/filtered\n",
    "for num in {1..3}\n",
    "do\n",
    "        sample=ATAC${num}\n",
    "        R1fastq=${data_dir}/${sample}.filtered.R1.fastq.gz\n",
    "        R2fastq=${data_dir}/${sample}.filtered.R2.fastq.gz\n",
    "        result_dir=/home/lifesci/liuk0617/workspace/benchmark/result/2nd/${sample}\n",
    "        mkdir -p $result_dir\n",
    "        reference=/home/lifesci/liuk0617/reference/clean/hg38.clean.fa\n",
    "        bash $bash_dir/circle_finder-pipeline-bwa-mem-samblaster.sh 80 $reference $R1fastq $R2fastq 10 ${sample} hg38\n",
    "        mv ${sample}* $result_dir\n",
    "done\n",
    "echo Time is `date`"
   ]
  },
  {
   "cell_type": "markdown",
   "id": "4f67b06e-5e43-48ec-b28a-4bf8343d3d37",
   "metadata": {},
   "source": [
    "#### 2 Circle-seq-SR"
   ]
  },
  {
   "cell_type": "raw",
   "id": "c5f85219-8093-40de-afda-7ea6f83fc317",
   "metadata": {},
   "source": [
    "#!/bin/sh\n",
    "#An example for serial job.\n",
    "#SBATCH -J DNARCAU\n",
    "#SBATCH -o log/DNARCAU_%j.log\n",
    "#SBATCH -e log/DNARCAU_%j.err\n",
    "#SBATCH -N 2 -n 80 -p CPU-Shorttime\n",
    "#SBATCH --qos=qos_cpu_shorttime\n",
    "#SBATCH --time=3-00\n",
    "#module load intel/2020\n",
    "\n",
    "echo START Time is `date`\n",
    "echo Running on $SBATCH_PARTITION paratation\n",
    "source /home/lifesci/liuk0617/miniconda3/bin/activate eccbench\n",
    "echo Directory is $PWD\n",
    "echo This job runs on the following nodes:\n",
    "echo $SLURM_JOB_NODELIST\n",
    "echo This job has allocated $SLURM_JOB_CPUS_PER_NODE cpu core.\n",
    "\n",
    "threads=80\n",
    "workspace=/home/lifesci/liuk0617/workspace/benchmark\n",
    "Reference_dir=/home/lifesci/liuk0617/reference/clean\n",
    "fastq_path=${workspace}/data/exp/2nd/filtered\n",
    "\n",
    "cd ${workspace}\n",
    "for number in {1..3}\n",
    "do\n",
    "        sample=DNARCAU${number}\n",
    "        result_path=${workspace}/result/2nd/${sample}\n",
    "        R1fastq=${fastq_path}/${sample}.filtered.R1.fastq.gz\n",
    "        R2fastq=${fastq_path}/${sample}.filtered.R2.fastq.gz\n",
    "        mkdir -p ${result_path}\n",
    "        cd ${result_path}\n",
    "        bwa mem -t ${threads} -q ${Reference_dir}/hg38.clean.fa ${R1fastq} ${R2fastq} > ${result_path}/${sample}.sam\n",
    "        samtools sort -@ ${threads} -o ${result_path}/${sample}.bam ${result_path}/${sample}.sam\n",
    "        samtools sort -@ ${threads} -n -o ${result_path}/${sample}.qname.bam ${result_path}/${sample}.bam\n",
    "        cd ${result_path}\n",
    "        Circle-Map ReadExtractor -i ${sample}.qname.bam -o ${sample}.candidates.bam\n",
    "        samtools sort -@ $threads -o ${sample}.sorted.candidates.bam ${sample}.candidates.bam\n",
    "        samtools index ${sample}.sorted.candidates.bam\n",
    "        samtools index ${sample}.bam\n",
    "        Circle-Map Realign -t ${threads} -i ${sample}.sorted.candidates.bam -qbam ${sample}.qname.bam -sbam ${sample}.bam -fasta ${Reference_dir}/hg38.clean.fa -o ${sample}.circle.bed\n",
    "done\n",
    "echo END Time is `date`"
   ]
  },
  {
   "cell_type": "markdown",
   "id": "c28133fe-eca1-4bdd-8942-543d71850086",
   "metadata": {},
   "source": [
    "#### 3 3SEP-SR"
   ]
  },
  {
   "cell_type": "raw",
   "id": "5de6046f-b7d9-4edb-8e62-0d6546790b43",
   "metadata": {},
   "source": [
    "#!/bin/sh\n",
    "#An example for serial job.\n",
    "#SBATCH -J DSAT\n",
    "#SBATCH -o log/DSAT_%j.log\n",
    "#SBATCH -e log/DSAT_%j.err\n",
    "#SBATCH -N 2 -n 80 -p CPU-Shorttime\n",
    "#SBATCH --qos=qos_cpu_shorttime\n",
    "#SBATCH --time=3-00\n",
    "#module load intel/2020\n",
    "echo START Time is `date`\n",
    "echo Running on $SBATCH_PARTITION paratation\n",
    "source /home/lifesci/liuk0617/miniconda3/bin/activate eccbench\n",
    "echo Directory is $PWD\n",
    "echo This job runs on the following nodes:\n",
    "echo $SLURM_JOB_NODELIST\n",
    "echo This job has allocated $SLURM_JOB_CPUS_PER_NODE cpu core.\n",
    "\n",
    "threads=80\n",
    "workspace=/home/lifesci/liuk0617/workspace/benchmark\n",
    "Reference_dir=/home/lifesci/liuk0617/reference/clean\n",
    "fastq_path=${workspace}/data/exp/2nd/filtered\n",
    "\n",
    "cd ${workspace}\n",
    "for number in {1..3}\n",
    "do\n",
    "        sample=DSAT${number}\n",
    "        result_path=${workspace}/result/2nd/${sample}\n",
    "        R1fastq=${fastq_path}/${sample}.filtered.R1.fastq.gz\n",
    "        R2fastq=${fastq_path}/${sample}.filtered.R2.fastq.gz\n",
    "        mkdir -p ${result_path}\n",
    "        cd ${result_path}\n",
    "        bwa mem -t ${threads} -q ${Reference_dir}/hg38.clean.fa ${R1fastq} ${R2fastq} > ${result_path}/${sample}.sam\n",
    "        samtools sort -@ ${threads} -o ${result_path}/${sample}.bam ${result_path}/${sample}.sam\n",
    "        samtools sort -@ ${threads} -n -o ${result_path}/${sample}.qname.bam ${result_path}/${sample}.bam\n",
    "        cd ${result_path}\n",
    "        Circle-Map ReadExtractor -i ${sample}.qname.bam -o ${sample}.candidates.bam\n",
    "        samtools sort -@ $threads -o ${sample}.sorted.candidates.bam ${sample}.candidates.bam\n",
    "        samtools index ${sample}.sorted.candidates.bam\n",
    "        samtools index ${sample}.bam\n",
    "        Circle-Map Realign -t ${threads} -i ${sample}.sorted.candidates.bam -qbam ${sample}.qname.bam -sbam ${sample}.bam -fasta ${Reference_dir}/hg38.clean.fa -o ${sample}.circle.bed\n",
    "done\n",
    "echo END Time is `date`"
   ]
  },
  {
   "cell_type": "markdown",
   "id": "783f2c5e-4401-43ee-aa1c-2e4140053e0e",
   "metadata": {},
   "source": [
    "#### 4 Circle-seq-LR"
   ]
  },
  {
   "cell_type": "raw",
   "id": "f7f822d9-8deb-4fb6-9292-2f31d7057f85",
   "metadata": {},
   "source": [
    "#!/bin/sh\n",
    "#An example for serial job.\n",
    "#SBATCH -J cresil_Nanopore_WGS\n",
    "#SBATCH -o cresil_Nanopore_WGS_%j.log\n",
    "#SBATCH -e cresil_Nanopore_WGS_%j.err\n",
    "#SBATCH --time=5-00\n",
    "#SBATCH -N 2 -n 80\n",
    "#SBATCH -p CPU-Shorttime\n",
    "#SBATCH --qos=qos_cpu_shorttime\n",
    "#module load intel/2020\n",
    "echo Running on $SBATCH_PARTITION paratation\n",
    "echo Time is `date`\n",
    "source /home/lifesci/liuk0617/miniconda3/bin/activate eccbench\n",
    "echo Directory is $PWD\n",
    "echo This job runs on the following nodes:\n",
    "echo $SLURM_JOB_NODELIST\n",
    "\n",
    "workspace=/home/lifesci/liuk0617/workspace/benchmark\n",
    "data_path=${workspace}/data/exp/3rd\n",
    "result_path=/home/lifesci/liuk0617/workspace/benchmark/result/3rd\n",
    "reference=/home/lifesci/liuk0617/reference/clean\n",
    "\n",
    "cd ${workspace}\n",
    "for number in {1..3}\n",
    "do\n",
    "    cresil trim -t 80 -fq ${data_path}/Nanopore_WGS${number}.merge.fastq -r ${reference}/hg38.clean.mmi -o ${result_path}/Nanopore_WGS${number}\n",
    "    cresil identify -t 80 -fa ${reference}/hg38.clean.fa -fai ${reference}/hg38.clean.fa.fai -fq ${data_path}/Nanopore_WGS1.merge.fastq -trim ${result_path}/trim.txt\n",
    "done\n",
    "echo End Time is `date`"
   ]
  },
  {
   "cell_type": "markdown",
   "id": "794c52ce-4e3e-4dc8-bd0c-58004a2326ab",
   "metadata": {},
   "source": [
    "#### 5 3SEP-LR"
   ]
  },
  {
   "cell_type": "raw",
   "id": "d9974ff6-ab70-49a1-a90b-9398176ad342",
   "metadata": {},
   "source": [
    "#!/bin/sh\n",
    "#An example for serial job.\n",
    "#SBATCH -J cresil_Nanopore_WGS\n",
    "#SBATCH -o cresil_Nanopore_WGS_%j.log\n",
    "#SBATCH -e cresil_Nanopore_WGS_%j.err\n",
    "#SBATCH --time=5-00\n",
    "#SBATCH -N 2 -n 80\n",
    "#SBATCH -p CPU-Shorttime\n",
    "#SBATCH --qos=qos_cpu_shorttime\n",
    "#module load intel/2020\n",
    "echo Running on $SBATCH_PARTITION paratation\n",
    "echo Time is `date`\n",
    "source /home/lifesci/liuk0617/miniconda3/bin/activate eccbench\n",
    "echo Directory is $PWD\n",
    "echo This job runs on the following nodes:\n",
    "echo $SLURM_JOB_NODELIST\n",
    "\n",
    "workspace=/home/lifesci/liuk0617/workspace/benchmark\n",
    "data_path=${workspace}/data/exp/3rd\n",
    "result_path=/home/lifesci/liuk0617/workspace/benchmark/result/3rd\n",
    "reference=/home/lifesci/liuk0617/reference/clean\n",
    "\n",
    "cd ${workspace}\n",
    "for number in {1..3}\n",
    "do\n",
    "    cresil trim -t 80 -fq ${data_path}/Nanopore_WGS${number}.merge.fastq -r ${reference}/hg38.clean.mmi -o ${result_path}/Nanopore_WGS${number}\n",
    "    cresil identify -t 80 -fa ${reference}/hg38.clean.fa -fai ${reference}/hg38.clean.fa.fai -fq ${data_path}/Nanopore_WGS1.merge.fastq -trim ${result_path}/trim.txt\n",
    "done\n",
    "echo End Time is `date`"
   ]
  },
  {
   "cell_type": "markdown",
   "id": "a95150da-83dd-4455-8e1f-6bef9b95805c",
   "metadata": {},
   "source": [
    "#### 6 WGS-SR"
   ]
  },
  {
   "cell_type": "raw",
   "id": "abf3609e-7150-4671-8c7a-c650a0e53ba0",
   "metadata": {},
   "source": [
    "#!/bin/sh\n",
    "#An example for serial job.\n",
    "#SBATCH -J cresil_Nanopore_WGS\n",
    "#SBATCH -o cresil_Nanopore_WGS_%j.log\n",
    "#SBATCH -e cresil_Nanopore_WGS_%j.err\n",
    "#SBATCH --time=5-00\n",
    "#SBATCH -N 2 -n 80\n",
    "#SBATCH -p CPU-Shorttime\n",
    "#SBATCH --qos=qos_cpu_shorttime\n",
    "#module load intel/2020\n",
    "echo Running on $SBATCH_PARTITION paratation\n",
    "echo Time is `date`\n",
    "source /home/lifesci/liuk0617/miniconda3/bin/activate eccbench\n",
    "echo Directory is $PWD\n",
    "echo This job runs on the following nodes:\n",
    "echo $SLURM_JOB_NODELIST\n",
    "\n",
    "python ./resource/AA/AmpliconSuite-pipeline/PrepareAA.py \\\n",
    "       -o ./example/result/WGSA -s WGSA -t 80 \\\n",
    "       --cnvkit_dir /home/lifesci/liuk0617/miniconda3/envs/ecc_pipe/bin/cnvkit.py \\\n",
    "       --fastqs /home/lifesci/liuk0617/workspace/profile/data/new2nd/R23402897-R23001543LD01-WGS-HA-NGS_combined_R1.fastq.gz /home/lifesci/liuk0617/workspace/profile/data/new2nd/R23402897-R23001543LD01-WGS-HA-NGS_combined_R2.fastq.gz \\\n",
    "       --ref GRCh38 \\\n",
    "       --cngain 4 --cnsize_min 10000 \\\n",
    "       --rscript_path /home/lifesci/liuk0617/miniconda3/envs/ecc_pipe/bin/Rscript \\ \n",
    "       --python3_path /home/lifesci/liuk0617//miniconda3/envs/ecc_pipe/bin/python \\\n",
    "       --run_AA --run_AC\n",
    "       \n",
    "echo End Time is `date`"
   ]
  },
  {
   "cell_type": "markdown",
   "id": "e0039e50-9502-4c62-90a1-22690272a357",
   "metadata": {},
   "source": [
    "#### 7 WGS-LR"
   ]
  },
  {
   "cell_type": "raw",
   "id": "28820fc9-d4dc-4165-90f7-fc064ed76243",
   "metadata": {},
   "source": [
    "#!/bin/sh\n",
    "#An example for serial job.\n",
    "#SBATCH -J cresil_Nanopore_WGS\n",
    "#SBATCH -o cresil_Nanopore_WGS_%j.log\n",
    "#SBATCH -e cresil_Nanopore_WGS_%j.err\n",
    "#SBATCH --time=5-00\n",
    "#SBATCH -N 2 -n 80\n",
    "#SBATCH -p CPU-Shorttime\n",
    "#SBATCH --qos=qos_cpu_shorttime\n",
    "#module load intel/2020\n",
    "echo Running on $SBATCH_PARTITION paratation\n",
    "echo Time is `date`\n",
    "source /home/lifesci/liuk0617/miniconda3/bin/activate eccbench\n",
    "echo Directory is $PWD\n",
    "echo This job runs on the following nodes:\n",
    "echo $SLURM_JOB_NODELIST\n",
    "\n",
    "workspace=/home/lifesci/liuk0617/workspace/benchmark\n",
    "data_path=${workspace}/data/exp/3rd\n",
    "result_path=/home/lifesci/liuk0617/workspace/benchmark/result/3rd\n",
    "reference=/home/lifesci/liuk0617/reference/clean\n",
    "\n",
    "cd ${workspace}\n",
    "for number in {1..3}\n",
    "do\n",
    "    cresil trim -t 80 -fq ${data_path}/Nanopore_WGS${number}.merge.fastq -r ${reference}/hg38.clean.mmi -o ${result_path}/Nanopore_WGS${number}\n",
    "    cresil identify_wgsl -t 80 -fa ${reference}/hg38.clean.fa -fai ${reference}/hg38.clean.fa.fai -fq ${data_path}/Nanopore_WGS1.merge.fastq -trim ${result_path}/trim.txt\n",
    "done\n",
    "\n",
    "echo End Time is `date`"
   ]
  }
 ],
 "metadata": {
  "kernelspec": {
   "display_name": "eccDNA",
   "language": "python",
   "name": "eccdna"
  },
  "language_info": {
   "codemirror_mode": {
    "name": "ipython",
    "version": 3
   },
   "file_extension": ".py",
   "mimetype": "text/x-python",
   "name": "python",
   "nbconvert_exporter": "python",
   "pygments_lexer": "ipython3",
   "version": "3.9.13"
  }
 },
 "nbformat": 4,
 "nbformat_minor": 5
}
