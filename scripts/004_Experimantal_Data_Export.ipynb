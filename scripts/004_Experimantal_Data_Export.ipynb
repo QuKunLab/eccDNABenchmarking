{
 "cells": [
  {
   "cell_type": "markdown",
   "id": "56bcb85a-c08d-4feb-9e1e-c32e31e9d7b0",
   "metadata": {},
   "source": [
    "#### Name：Experimental_Data_export\n",
    "#### People：Ke Liu"
   ]
  },
  {
   "cell_type": "code",
   "execution_count": 1,
   "id": "d0e3d80d-7759-49e0-8b6f-4308172505cb",
   "metadata": {},
   "outputs": [],
   "source": [
    "import subprocess as sp\n",
    "import numpy as np\n",
    "import pandas as pd\n",
    "import matplotlib as mpl\n",
    "import matplotlib.pyplot as plt\n",
    "import matplotlib.gridspec as gs\n",
    "import seaborn as sns\n",
    "from statannot import add_stat_annotation\n",
    "from statannotations.Annotator import Annotator"
   ]
  },
  {
   "cell_type": "code",
   "execution_count": 2,
   "id": "80dd1b80-84d4-428c-8c22-96a8e544ffcc",
   "metadata": {},
   "outputs": [],
   "source": [
    "def intersect(a,b,command,result):\n",
    "    _shell2call = '/home/qukun/liuke/miniconda3/envs/eccDNA/bin/bedtools intersect -nonamecheck -a {0} -b {1} {2} > {3}'.format(a, b, command, result)\n",
    "    sp.check_call(_shell2call, shell=True)\n",
    "    return result"
   ]
  },
  {
   "cell_type": "code",
   "execution_count": 3,
   "id": "57f3fbf8-2ae3-487f-afed-56f1b4728e5a",
   "metadata": {},
   "outputs": [],
   "source": [
    "all_methods = ['ATAC','DNAT' ,'DSAT', 'DNARCAT', 'DNARCAU', 'DSARCAT', 'DSARCAU', 'DNRT7', 'DSRT7', 'Nanopore_WGS', 'NGS_WGS' ]\n",
    "pub_methods = ['DNRT7', 'DNARCAU', 'DSRT7', 'DSAT', 'ATAC', 'Nanopore_WGS', 'NGS_WGS' ]\n",
    "NGS_methods = ['DNARCAU', 'DSAT', 'NGS_WGS']\n",
    "Nanopore_methods = ['DNRT7', 'DSRT7', 'Nanopore_WGS']"
   ]
  },
  {
   "cell_type": "code",
   "execution_count": 4,
   "id": "d2578467-bb31-4428-8ed3-d95b35bb8dee",
   "metadata": {},
   "outputs": [],
   "source": [
    "NGS_path = '/home/qukun/liuke/workspace/benchmark/result/2nd/circle-map/processed/filtered/'\n",
    "ATAC_path = '/home/qukun/liuke/workspace/benchmark/result/2nd/circle_finder/processed/filtered/'\n",
    "Nanopore_path = '/home/qukun/liuke/workspace/benchmark/result/3rd/processed/filtered/'"
   ]
  },
  {
   "cell_type": "code",
   "execution_count": 100,
   "id": "78b4a181-fe38-4149-a1c3-1f919f0dee76",
   "metadata": {},
   "outputs": [],
   "source": [
    "expansion_bed1 = '/home/qukun/liuke/workspace/benchmark/result/cons/cnv/cnv/expansion1.bed'\n",
    "expansion_bed2 = '/home/qukun/liuke/workspace/benchmark/result/cons/cnv/cnv/expansion2.bed'\n",
    "expansion_bed3 = '/home/qukun/liuke/workspace/benchmark/result/cons/cnv/cnv/expansion3.bed'\n",
    "expansion_bed12 = '/home/qukun/liuke/workspace/benchmark/result/cons/cnv/cnv/expansion12.bed'\n",
    "expansion_bed123 = '/home/qukun/liuke/workspace/benchmark/result/cons/cnv/cnv/expansion123.bed'"
   ]
  },
  {
   "cell_type": "code",
   "execution_count": 101,
   "id": "788f6917-b3a1-43c2-85c1-9caf14dd839c",
   "metadata": {},
   "outputs": [],
   "source": [
    "Nanopore_cnv1 = pd.read_csv('/home/qukun/liuke/workspace/benchmark/result/cons/cnv/cnv/Nanopore_WGS1.bam_CNVs',sep = '\\t',names=['chr','start','end','num','CNV'])\n",
    "Nanopore_cnv1.chr = Nanopore_cnv1.apply(lambda x: 'chr'+str(x.chr),axis=1)\n",
    "Nanopore_cnv1 = Nanopore_cnv1[Nanopore_cnv1.CNV=='gain']\n",
    "Nanopore_cnv1.to_csv(expansion_bed1,sep='\\t',index=None,header=None)"
   ]
  },
  {
   "cell_type": "code",
   "execution_count": 102,
   "id": "89c51f8f-c4d2-41af-ae74-4f52bc92cf99",
   "metadata": {},
   "outputs": [],
   "source": [
    "Nanopore_cnv2 = pd.read_csv('/home/qukun/liuke/workspace/benchmark/result/cons/cnv/cnv/Nanopore_WGS2.bam_CNVs',sep = '\\t',names=['chr','start','end','num','CNV'])\n",
    "Nanopore_cnv2.chr = Nanopore_cnv2.apply(lambda x: 'chr'+str(x.chr),axis=1)\n",
    "Nanopore_cnv2 = Nanopore_cnv2[Nanopore_cnv2.CNV=='gain']\n",
    "Nanopore_cnv2.to_csv(expansion_bed2,sep='\\t',index=None,header=None)"
   ]
  },
  {
   "cell_type": "code",
   "execution_count": 103,
   "id": "02272cf1-f829-44e4-934e-2325d10cbcec",
   "metadata": {},
   "outputs": [],
   "source": [
    "Nanopore_cnv3 = pd.read_csv('/home/qukun/liuke/workspace/benchmark/result/cons/cnv/cnv/Nanopore_WGS3.bam_CNVs',sep = '\\t',names=['chr','start','end','num','CNV'])\n",
    "Nanopore_cnv3.chr = Nanopore_cnv3.apply(lambda x: 'chr'+str(x.chr),axis=1)\n",
    "Nanopore_cnv3 = Nanopore_cnv3[Nanopore_cnv3.CNV=='gain']\n",
    "Nanopore_cnv3.to_csv(expansion_bed3,sep='\\t',index=None,header=None)"
   ]
  },
  {
   "cell_type": "code",
   "execution_count": 104,
   "id": "3bc810ee-59d2-4c6e-b4b4-2fce906422d0",
   "metadata": {},
   "outputs": [
    {
     "data": {
      "text/plain": [
       "'/home/qukun/liuke/workspace/benchmark/result/cons/cnv/cnv/expansion123.bed'"
      ]
     },
     "execution_count": 104,
     "metadata": {},
     "output_type": "execute_result"
    }
   ],
   "source": [
    "intersect(expansion_bed1, expansion_bed2, '', expansion_bed12)\n",
    "intersect(expansion_bed12, expansion_bed3, '', expansion_bed123)"
   ]
  },
  {
   "cell_type": "code",
   "execution_count": null,
   "id": "3a4b1b70-d8de-43a1-a8ed-600b6f54c9b4",
   "metadata": {},
   "outputs": [],
   "source": [
    "total_table = pd.DataFrame(index=['{0}{1}'.format(a, b) for a in pub_methods for b in [1,2,3]],columns=['simple eccDNA', 'simple ecDNA', '<2kb', '2kb-10kb', '>10kb', 'ec<2kb', 'ec2kb-10kb', 'ec>10kb', 'complex', 'complex_diff', 'complex_ecDNA', 'chim<2kb', 'chim2kb-10kb', 'chim>10kb',  'chimec<2kb', 'chimec2kb-10kb', 'chimec>10kb', 'cpg','partialgene','fullgene','exon','intron'])"
   ]
  },
  {
   "cell_type": "code",
   "execution_count": 125,
   "id": "b4d27970-fd3f-4fc7-99a3-432928d72229",
   "metadata": {},
   "outputs": [],
   "source": [
    "total_table = pd.DataFrame(index=['{0}{1}'.format(a, b) for a in pub_methods for b in [1,2,3]],columns=['eccDNA', 'ecDNA', '<2kb', '2kb-10kb', '>10kb', 'ec<2kb', 'ec2kb-10kb', 'ec>10kb', 'complex', 'complex_diff', 'complex_ecDNA', 'chim<2kb', 'chim2kb-10kb', 'chim>10kb',  'chimec<2kb', 'chimec2kb-10kb', 'chimec>10kb', 'cpg','partialgene','fullgene','exon','intron'])"
   ]
  },
  {
   "cell_type": "markdown",
   "id": "ac295d81-e6f1-40c9-8a5e-1a9c2ea76e19",
   "metadata": {},
   "source": [
    "## 1 Identify Copy Number Amplication Region using Nanopore_WGS data"
   ]
  },
  {
   "cell_type": "code",
   "execution_count": 169,
   "id": "392b1c1e-fb84-4240-9dc1-8f18f783c047",
   "metadata": {},
   "outputs": [],
   "source": [
    "ratio_table = pd.DataFrame(columns=pub_methods,index=['1','2','3'])\n",
    "ecDNA_count_table = pd.DataFrame(columns=pub_methods,index=['1','2','3'])\n",
    "namp_count_table = pd.DataFrame(columns=pub_methods,index=['1','2','3'])\n",
    "for sample in ['{0}{1}'.format(a, b) for a in Nanopore_methods for b in [1,2,3]]:\n",
    "        result_bed = Nanopore_path+sample+'.bed'\n",
    "        ecDNA_bed = '/home/qukun/liuke/workspace/benchmark/result/3rd/processed/ecDNA/'+sample+'.bed'\n",
    "        intersect(result_bed, expansion_bed123, '-wa -wb', ecDNA_bed)\n",
    "        locals()[sample+'_ecDNA'] = pd.read_csv(ecDNA_bed,sep='\\t',header=None)\n",
    "        locals()[sample] = pd.read_csv(result_bed,sep='\\t',header=None)\n",
    "        ratio_table.loc[sample[-1:],sample[:-1]]=len(locals()[sample+'_ecDNA'][3].unique())/len(locals()[sample][3].unique())\n",
    "        ecDNA_count_table.loc[sample[-1:],sample[:-1]]=len(locals()[sample+'_ecDNA'][3].unique())\n",
    "        namp_count_table.loc[sample[-1:],sample[:-1]]=len(locals()[sample][3].unique()) - len(locals()[sample+'_ecDNA'][3].unique())\n",
    "        total_table.loc[sample,'eccDNA'] = len(locals()[sample][3].unique())\n",
    "        total_table.loc[sample,'ecDNA'] = len(locals()[sample+'_ecDNA'][3].unique())"
   ]
  },
  {
   "cell_type": "code",
   "execution_count": 170,
   "id": "50e2fedf-a832-4ed8-bebc-db7f1594257d",
   "metadata": {},
   "outputs": [],
   "source": [
    "for sample in ['{0}{1}'.format(a, b) for a in NGS_methods for b in [1,2,3]]:\n",
    "        expansion_bed = '/home/qukun/liuke/workspace/benchmark/result/cons/cnv/cnv/expansion.bed'\n",
    "        result_bed = NGS_path+sample+'.bed'\n",
    "        ecDNA_bed = '/home/qukun/liuke/workspace/benchmark/result/2nd/circle-map/processed/ecDNA/'+sample+'.bed'\n",
    "        intersect(result_bed, expansion_bed123, '-wa -wb', ecDNA_bed)\n",
    "        locals()[sample+'_ecDNA'] = pd.read_csv(ecDNA_bed,sep='\\t',header=None)\n",
    "        locals()[sample] = pd.read_csv(result_bed,sep='\\t',header=None)\n",
    "        ratio_table.loc[sample[-1:],sample[:-1]]=len(locals()[sample+'_ecDNA'][3].unique())/len(locals()[sample][3].unique())\n",
    "        ecDNA_count_table.loc[sample[-1:],sample[:-1]]=len(locals()[sample+'_ecDNA'][3].unique())\n",
    "        namp_count_table.loc[sample[-1:],sample[:-1]]=len(locals()[sample][3].unique()) - len(locals()[sample+'_ecDNA'][3].unique())\n",
    "        total_table.loc[sample,'eccDNA'] = len(locals()[sample][3].unique())\n",
    "        total_table.loc[sample,'ecDNA'] = len(locals()[sample+'_ecDNA'][3].unique())"
   ]
  },
  {
   "cell_type": "code",
   "execution_count": 171,
   "id": "e151e195-8b08-45e7-85c2-8e574324a95c",
   "metadata": {},
   "outputs": [],
   "source": [
    "for sample in ['ATAC1','ATAC2','ATAC3']:\n",
    "        expansion_bed = '/home/qukun/liuke/workspace/benchmark/result/cons/cnv/cnv/expansion.bed'\n",
    "        result_bed = ATAC_path+sample+'.bed'\n",
    "        ecDNA_bed = '/home/qukun/liuke/workspace/benchmark/result/2nd/circle_finder/processed/ecDNA/'+sample+'.bed'\n",
    "        intersect(result_bed, expansion_bed123, '-wa -wb', ecDNA_bed)\n",
    "        locals()[sample+'_ecDNA'] = pd.read_csv(ecDNA_bed,sep='\\t',header=None)\n",
    "        locals()[sample] = pd.read_csv(result_bed,sep='\\t',header=None)\n",
    "        ratio_table.loc[sample[-1:],sample[:-1]]=len(locals()[sample+'_ecDNA'][3].unique())/len(locals()[sample][3].unique())\n",
    "        ecDNA_count_table.loc[sample[-1:],sample[:-1]]=len(locals()[sample+'_ecDNA'][3].unique())\n",
    "        namp_count_table.loc[sample[-1:],sample[:-1]]=len(locals()[sample][3].unique()) - len(locals()[sample+'_ecDNA'][3].unique())\n",
    "        total_table.loc[sample,'eccDNA'] = len(locals()[sample][3].unique())\n",
    "        total_table.loc[sample,'ecDNA'] = len(locals()[sample+'_ecDNA'][3].unique())"
   ]
  },
  {
   "cell_type": "markdown",
   "id": "396e4cc9-3e5f-45d8-a1c6-04b55f1fb135",
   "metadata": {},
   "source": [
    "## 2 Length Bin"
   ]
  },
  {
   "cell_type": "code",
   "execution_count": 172,
   "id": "fe66775f-a072-4ea1-afca-744b9a287e7b",
   "metadata": {},
   "outputs": [],
   "source": [
    "bins = [0, 2*1e3, 1e4, 1e7]\n",
    "labels = ['<2kb', '2kb-10kb', '>10kb'] "
   ]
  },
  {
   "cell_type": "code",
   "execution_count": 173,
   "id": "89822b0a-80af-4f3a-90d7-6870cd46eb87",
   "metadata": {},
   "outputs": [],
   "source": [
    "for sample in ['{0}{1}'.format(a, b) for a in Nanopore_methods for b in [1,2,3]]:\n",
    "    result_txt = '/home/qukun/liuke/workspace/benchmark/result/3rd/raw/' + sample + '.txt' \n",
    "    locals()[sample+'_merge'] = pd.read_csv(result_txt,sep='\\t')\n",
    "    locals()[sample+'_merge'] = locals()[sample+'_merge'][locals()[sample+'_merge']['eccdna_status']=='cyclic']\n",
    "    locals()[sample+'_merge'].insert(7,'len_region',pd.cut(locals()[sample+'_merge'].merge_len, bins, labels = labels))\n",
    "    j = 0\n",
    "    for i in locals()[sample+'_merge'].len_region.value_counts().index:\n",
    "        total_table.loc[sample,i] = locals()[sample+'_merge'].len_region.value_counts().loc[i]\n",
    "        total_table.loc[sample,'ec'+i] = locals()[sample+'_merge'][locals()[sample+'_merge'].id.isin(locals()[sample+'_ecDNA'][3].unique())].len_region.value_counts().loc[i]\n",
    "        total_table.loc[sample,'chim'+i] = locals()[sample+'_merge'][locals()[sample+'_merge'].num_region>1].len_region.value_counts().loc[i]\n",
    "        total_table.loc[sample,'chimec'+i] = locals()[sample+'_merge'][(locals()[sample+'_merge'].id.isin(locals()[sample+'_ecDNA'][3].unique()))&(locals()[sample+'_merge'].num_region>1)].len_region.value_counts().loc[i]\n",
    "        j=j+1"
   ]
  },
  {
   "cell_type": "code",
   "execution_count": 174,
   "id": "f207d6f0-f41d-42fd-b418-dc3e36ba3755",
   "metadata": {},
   "outputs": [],
   "source": [
    "for sample in ['{0}{1}'.format(a, b) for a in NGS_methods for b in [1,2,3]]:\n",
    "    locals()[sample].insert(7,'len_region',pd.cut(locals()[sample][6], bins, labels = labels))\n",
    "    j = 0\n",
    "    for i in locals()[sample].len_region.value_counts().index:\n",
    "        length_count.loc[j] = [i, sample, sample[:-1], locals()[sample].len_region.value_counts()[i]]\n",
    "        total_table.loc[sample,i] = locals()[sample].len_region.value_counts().loc[i]\n",
    "        total_table.loc[sample,'ec'+i] = locals()[sample][locals()[sample][3].isin(locals()[sample+'_ecDNA'][3].unique())].len_region.value_counts().loc[i]\n",
    "        total_table.loc[sample,'chim'+i] = 0\n",
    "        total_table.loc[sample,'chimec'+i] = 0\n",
    "        j=j+1"
   ]
  },
  {
   "cell_type": "code",
   "execution_count": 175,
   "id": "3bb26211-e167-4483-818d-18a2f551e2d6",
   "metadata": {},
   "outputs": [],
   "source": [
    "for sample in ['ATAC1','ATAC2','ATAC3']:\n",
    "    locals()[sample].insert(7,'len_region',pd.cut(locals()[sample][6], bins, labels = labels))\n",
    "    for i in locals()[sample].len_region.value_counts().index:\n",
    "        length_count.loc[j] = [i, sample, sample[:-1], locals()[sample].len_region.value_counts()[i]]\n",
    "        total_table.loc[sample,i] = locals()[sample].len_region.value_counts().loc[i]\n",
    "        total_table.loc[sample,'ec'+i] = locals()[sample][locals()[sample][3].isin(locals()[sample+'_ecDNA'][3].unique())].len_region.value_counts().loc[i]\n",
    "        total_table.loc[sample,'chim'+i] = 0\n",
    "        total_table.loc[sample,'chimec'+i] = 0\n",
    "        j=j+1"
   ]
  },
  {
   "cell_type": "markdown",
   "id": "371aa2b5-d60c-457c-861d-259a15625519",
   "metadata": {},
   "source": [
    "## 3 Chimeric Proportion"
   ]
  },
  {
   "cell_type": "code",
   "execution_count": 176,
   "id": "a69d681a-9903-47d9-9684-194e9277c1b1",
   "metadata": {},
   "outputs": [],
   "source": [
    "sum_table = pd.DataFrame(columns=['total','same','different'])"
   ]
  },
  {
   "cell_type": "code",
   "execution_count": 177,
   "id": "4db6e23d-3a72-4e67-b978-4f3aaf6df0e3",
   "metadata": {},
   "outputs": [],
   "source": [
    "for sample in ['{0}{1}'.format(a, b) for a in Nanopore_methods for b in [1,2,3]]:\n",
    "    locals()[sample+'_complex_list'] = list(locals()[sample][3].value_counts()[locals()[sample][3].value_counts()>1].index)\n",
    "    locals()[sample+'_complex_bed'] = locals()[sample][locals()[sample][3].isin(locals()[sample+'_complex_list'])]\n",
    "    i=0\n",
    "    for ecc in locals()[sample+'_complex_list']:\n",
    "        if (len(locals()[sample+'_complex_bed'][locals()[sample+'_complex_bed'][3]==ecc][0].unique())==1):\n",
    "            i+=1\n",
    "    total_table.loc[sample,'complex'] = len(locals()[sample+'_complex_list'])\n",
    "    total_table.loc[sample,'complex_diff'] = len(locals()[sample+'_complex_list'])-i\n",
    "    total_table.loc[sample,'complex_ecDNA'] = len(set(locals()[sample+'_ecDNA'][3]).intersection(set(locals()[sample+'_complex_list'])))\n",
    "    sum_table.loc[sample] = [len(locals()[sample+'_complex_list']),i,len(locals()[sample+'_complex_list'])-i]"
   ]
  },
  {
   "cell_type": "code",
   "execution_count": 178,
   "id": "1d30a85b-1742-4ec3-919d-fe783871fed9",
   "metadata": {},
   "outputs": [],
   "source": [
    "for sample in ['{0}{1}'.format(a, b) for a in NGS_methods for b in [1,2,3]] + ['ATAC1','ATAC2','ATAC3']:\n",
    "    total_table.loc[sample,'complex'] = 0\n",
    "    total_table.loc[sample,'complex_diff'] = 0\n",
    "    total_table.loc[sample,'complex_ecDNA'] = 0"
   ]
  },
  {
   "cell_type": "markdown",
   "id": "d352ff53-2c4b-496f-8a61-1cf89da50068",
   "metadata": {},
   "source": [
    "## 4 Gene & Gene region"
   ]
  },
  {
   "cell_type": "code",
   "execution_count": 179,
   "id": "20243388-a33b-4b97-8a39-d37cab3bfe57",
   "metadata": {},
   "outputs": [],
   "source": [
    "def intersect(a,b,rate1,rate2,command,result):\n",
    "    _shell2call = '/home/qukun/liuke/miniconda3/envs/eccDNA/bin/bedtools intersect -nonamecheck -a {0} -b {1} -f {2} -F {3} {4} > {5}'.format(a, b,rate1,rate2, command, result                                                                                                                                                  )\n",
    "    sp.check_call(_shell2call, shell=True)\n",
    "    return result"
   ]
  },
  {
   "cell_type": "code",
   "execution_count": 180,
   "id": "137538e6-3152-4009-a7c9-bd5ec35dae12",
   "metadata": {},
   "outputs": [],
   "source": [
    "cpg_bed = '/home/qukun/liuke/reference/UCSC/hg38/annotation/cpg_ucsc.bed'\n",
    "exon_bed = '/home/qukun/liuke/reference/UCSC/hg38/annotation/exon.bed'\n",
    "intron_bed = '/home/qukun/liuke/reference/UCSC/hg38/annotation/intron.bed'\n",
    "gene_bed = '/home/qukun/liuke/reference/UCSC/hg38/annotation/gene.bed'\n",
    "num=[1,2,3]\n",
    "NGS_list = ['{0}{1}'.format(a,b) for a in NGS_methods for b in num]\n",
    "Nanopore_list = ['{0}{1}'.format(a,b) for a in Nanopore_methods for b in num]\n",
    "for sample in NGS_list:\n",
    "    ecc_bed = '/home/qukun/liuke/workspace/benchmark/result/2nd/circle-map/processed/filtered/'+sample+'.bed'\n",
    "    intersect(exon_bed, ecc_bed, 1, 1e-9, '-wb', '/home/qukun/liuke/workspace/benchmark/result/2nd/circle-map/processed/annotation/'+sample+'.exon.bed')\n",
    "    intersect(intron_bed, ecc_bed, 1, 1e-9, '-wb', '/home/qukun/liuke/workspace/benchmark/result/2nd/circle-map/processed/annotation/'+sample+'.intron.bed')\n",
    "    intersect(cpg_bed, ecc_bed, 1, 1e-9, '-wb', '/home/qukun/liuke/workspace/benchmark/result/2nd/circle-map/processed/annotation/'+sample+'.cpg.bed')\n",
    "    intersect(gene_bed, ecc_bed, 1, 1e-9, '-wb', '/home/qukun/liuke/workspace/benchmark/result/2nd/circle-map/processed/annotation/'+sample+'.fullgene.bed')\n",
    "    intersect(gene_bed, ecc_bed, 1e-9, 1e-9, '-wb', '/home/qukun/liuke/workspace/benchmark/result/2nd/circle-map/processed/annotation/'+sample+'.partialgene.bed')\n",
    "    for element in ['cpg','partialgene','fullgene','exon','intron']:\n",
    "        if (open('/home/qukun/liuke/workspace/benchmark/result/2nd/circle-map/processed/annotation/'+sample+'.'+element+'.bed').readlines()==[]):\n",
    "            total_table.loc[sample,element]=0\n",
    "        else:\n",
    "            locals()[sample+'_'+element] = pd.read_csv('/home/qukun/liuke/workspace/benchmark/result/2nd/circle-map/processed/annotation/'+sample+'.'+element+'.bed',sep='\\t',header=None)\n",
    "            total_table.loc[sample,element]=len(locals()[sample+'_'+element][10].unique())"
   ]
  },
  {
   "cell_type": "code",
   "execution_count": 181,
   "id": "751c234a-a59b-45cf-83d6-e3f41111d284",
   "metadata": {},
   "outputs": [],
   "source": [
    "for sample in Nanopore_list:    \n",
    "    ecc_bed = '/home/qukun/liuke/workspace/benchmark/result/3rd/processed/filtered/'+sample+'.bed'\n",
    "    intersect(exon_bed, ecc_bed, 1, 1e-9, '-wb', '/home/qukun/liuke/workspace/benchmark/result/3rd/processed/annotation/'+sample+'.exon.bed')\n",
    "    intersect(intron_bed, ecc_bed, 1, 1e-9, '-wb', '/home/qukun/liuke/workspace/benchmark/result/3rd/processed/annotation/'+sample+'.intron.bed')\n",
    "    intersect(cpg_bed, ecc_bed, 1, 1e-9, '-wb', '/home/qukun/liuke/workspace/benchmark/result/3rd/processed/annotation/'+sample+'.cpg.bed')\n",
    "    intersect(gene_bed, ecc_bed, 1, 1e-9, '-wb', '/home/qukun/liuke/workspace/benchmark/result/3rd/processed/annotation/'+sample+'.fullgene.bed')\n",
    "    intersect(gene_bed, ecc_bed, 1e-9, 1e-9, '-wb', '/home/qukun/liuke/workspace/benchmark/result/3rd/processed/annotation/'+sample+'.partialgene.bed')\n",
    "    for element in ['cpg','partialgene','fullgene','exon','intron']:\n",
    "        if (open('/home/qukun/liuke/workspace/benchmark/result/3rd/processed/annotation/'+sample+'.'+element+'.bed').readlines()==[]):\n",
    "            total_table.loc[sample,element]=0\n",
    "        else:\n",
    "            locals()[sample+'_'+element] = pd.read_csv('/home/qukun/liuke/workspace/benchmark/result/3rd/processed/annotation/'+sample+'.'+element+'.bed',sep='\\t',header=None)\n",
    "            total_table.loc[sample,element]=len(locals()[sample+'_'+element][10].unique())"
   ]
  },
  {
   "cell_type": "code",
   "execution_count": 182,
   "id": "6bfb15dd-ae01-4046-8f2e-fb2d0fdc4351",
   "metadata": {},
   "outputs": [],
   "source": [
    "for sample in ['ATAC1','ATAC2','ATAC3']:    \n",
    "    ecc_bed = '/home/qukun/liuke/workspace/benchmark/result/2nd/circle_finder/processed/filtered/'+sample+'.bed'\n",
    "    intersect(exon_bed, ecc_bed, 1, 1e-9, '-wb', '/home/qukun/liuke/workspace/benchmark/result/2nd/circle_finder/processed/annotation/'+sample+'.exon.bed')\n",
    "    intersect(intron_bed, ecc_bed, 1, 1e-9, '-wb', '/home/qukun/liuke/workspace/benchmark/result/2nd/circle_finder/processed/annotation/'+sample+'.intron.bed')\n",
    "    intersect(cpg_bed, ecc_bed, 1, 1e-9, '-wb', '/home/qukun/liuke/workspace/benchmark/result/2nd/circle_finder/processed/annotation/'+sample+'.cpg.bed')\n",
    "    intersect(gene_bed, ecc_bed, 1, 1e-9, '-wb', '/home/qukun/liuke/workspace/benchmark/result/2nd/circle_finder/processed/annotation/'+sample+'.fullgene.bed')\n",
    "    intersect(gene_bed, ecc_bed, 1e-9, 1e-9, '-wb', '/home/qukun/liuke/workspace/benchmark/result/2nd/circle_finder/processed/annotation/'+sample+'.partialgene.bed')\n",
    "    for element in ['cpg','partialgene','fullgene','exon','intron']:\n",
    "        if (open('/home/qukun/liuke/workspace/benchmark/result/2nd/circle_finder/processed/annotation/'+sample+'.'+element+'.bed').readlines()==[]):\n",
    "            total_table.loc[sample,element]=0\n",
    "        else:\n",
    "            locals()[sample+'_'+element] = pd.read_csv('/home/qukun/liuke/workspace/benchmark/result/2nd/circle_finder/processed/annotation/'+sample+'.'+element+'.bed',sep='\\t',header=None)\n",
    "            total_table.loc[sample,element]=len(locals()[sample+'_'+element][10].unique())"
   ]
  },
  {
   "cell_type": "code",
   "execution_count": 183,
   "id": "003c4589-e528-4831-89cb-161149615dae",
   "metadata": {},
   "outputs": [],
   "source": [
    "total_table.to_csv('~/summary_20230725.csv')"
   ]
  }
 ],
 "metadata": {
  "kernelspec": {
   "display_name": "eccDNA",
   "language": "python",
   "name": "eccdna"
  },
  "language_info": {
   "codemirror_mode": {
    "name": "ipython",
    "version": 3
   },
   "file_extension": ".py",
   "mimetype": "text/x-python",
   "name": "python",
   "nbconvert_exporter": "python",
   "pygments_lexer": "ipython3",
   "version": "3.9.13"
  }
 },
 "nbformat": 4,
 "nbformat_minor": 5
}
